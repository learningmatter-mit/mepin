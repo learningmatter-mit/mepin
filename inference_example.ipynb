{
 "cells": [
  {
   "cell_type": "markdown",
   "metadata": {},
   "source": [
    "## MEPIN inference example\n",
    "\n",
    "### Imports"
   ]
  },
  {
   "cell_type": "code",
   "execution_count": 1,
   "metadata": {},
   "outputs": [],
   "source": [
    "import ase\n",
    "import ase.io\n",
    "import numpy as np\n",
    "import torch\n",
    "\n",
    "from mepin.model.modules import TripleCrossPaiNNModule\n",
    "from mepin.tools.frechet import frechet_distance\n",
    "from mepin.tools.inference import create_reaction_batch"
   ]
  },
  {
   "cell_type": "markdown",
   "metadata": {},
   "source": [
    "### Model loading\n",
    "\n",
    "`use_geodesic` controls whether to use geodesic path initialization (MEPIN-G) or not (MEPIN-L)."
   ]
  },
  {
   "cell_type": "code",
   "execution_count": 2,
   "metadata": {},
   "outputs": [],
   "source": [
    "use_geodesic = True\n",
    "dataset = \"t1x\"  # or \"cyclo\"\n",
    "\n",
    "device = torch.device(\"cuda\" if torch.cuda.is_available() else \"cpu\")\n",
    "ckpt = f\"ckpt/{dataset}_G.ckpt\" if use_geodesic else f\"ckpt/{dataset}_L.ckpt\"\n",
    "model = TripleCrossPaiNNModule.load_from_checkpoint(ckpt)\n",
    "model = model.eval().to(device)"
   ]
  },
  {
   "cell_type": "markdown",
   "metadata": {},
   "source": [
    "### Inference\n",
    "\n",
    "Path prediction for given reaction ID (`rxn_id`)"
   ]
  },
  {
   "cell_type": "code",
   "execution_count": 3,
   "metadata": {},
   "outputs": [],
   "source": [
    "# Load the reactant and product atoms\n",
    "rxn_id = \"C2H2N2O_rxn3122\"\n",
    "\n",
    "reactant = ase.io.read(f\"data/{dataset}_xtb/xyz/{rxn_id}_R.xyz\")\n",
    "product = ase.io.read(f\"data/{dataset}_xtb/xyz/{rxn_id}_P.xyz\")\n",
    "interp_traj = ase.io.read(f\"data/{dataset}_xtb/geodesic/{rxn_id}.xyz\", \":\")\n",
    "\n",
    "# Predict the reaction path\n",
    "batch = create_reaction_batch(\n",
    "    reactant, product, interp_traj, use_geodesic=use_geodesic, num_images=101\n",
    ").to(device)\n",
    "with torch.no_grad():\n",
    "    output_positions = model(batch).reshape(batch.num_graphs, -1, 3).cpu().numpy()\n",
    "\n",
    "# Construct the trajectory and save it\n",
    "trajectory = []\n",
    "for i in range(output_positions.shape[0]):\n",
    "    atoms = ase.Atoms(\n",
    "        numbers=reactant.get_atomic_numbers(),\n",
    "        positions=output_positions[i],\n",
    "        cell=reactant.cell,\n",
    "        pbc=reactant.pbc,\n",
    "    )\n",
    "    trajectory.append(atoms)\n",
    "ase.io.write(\"predicted_path.xyz\", trajectory)"
   ]
  },
  {
   "cell_type": "markdown",
   "metadata": {},
   "source": [
    "Compare to the ground truth IRC path"
   ]
  },
  {
   "cell_type": "code",
   "execution_count": null,
   "metadata": {},
   "outputs": [
    {
     "name": "stdout",
     "output_type": "stream",
     "text": [
      "Frechet distance vs. IRC: 0.23 Å\n"
     ]
    }
   ],
   "source": [
    "# Load the IRC trajectory\n",
    "irc_trajectory = ase.io.read(f\"data/{dataset}_xtb/irc/{rxn_id}.xyz\", \":\")\n",
    "irc_positions = np.array([atoms.get_positions() for atoms in irc_trajectory])\n",
    "\n",
    "# Calculate the Frechet distance\n",
    "dist = frechet_distance(output_positions, irc_positions)\n",
    "print(f\"Frechet distance vs. IRC: {dist:.2f} Å\")"
   ]
  }
 ],
 "metadata": {
  "kernelspec": {
   "display_name": "mepin",
   "language": "python",
   "name": "python3"
  },
  "language_info": {
   "codemirror_mode": {
    "name": "ipython",
    "version": 3
   },
   "file_extension": ".py",
   "mimetype": "text/x-python",
   "name": "python",
   "nbconvert_exporter": "python",
   "pygments_lexer": "ipython3",
   "version": "3.11.11"
  }
 },
 "nbformat": 4,
 "nbformat_minor": 2
}
